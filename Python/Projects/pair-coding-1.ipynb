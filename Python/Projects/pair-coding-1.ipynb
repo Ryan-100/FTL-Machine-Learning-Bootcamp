{
 "cells": [
  {
   "cell_type": "markdown",
   "id": "659edaac",
   "metadata": {},
   "source": [
    "# Pair Coding (12 September 2025)"
   ]
  },
  {
   "cell_type": "markdown",
   "id": "5530710a",
   "metadata": {},
   "source": [
    "## 1. Python exercises with if-else, for loop, while loop, range()"
   ]
  },
  {
   "cell_type": "code",
   "execution_count": 4,
   "id": "85f3812d",
   "metadata": {},
   "outputs": [
    {
     "name": "stdout",
     "output_type": "stream",
     "text": [
      "[1, 3, 5, 7, 9, 11, 1, 2, 4, 6, 8, 10, 12]\n"
     ]
    }
   ],
   "source": [
    "#Exercise 1.1\n",
    "list1 = [1,3,2,4,5,7,9,6,11, 1]\n",
    "list2 = [2,1,3,5,9,4,6,8,10,12]\n",
    "\n",
    "new_list = []\n",
    "\n",
    "for num in list1:\n",
    "  if num % 2 != 0:\n",
    "    new_list.append(num)\n",
    "\n",
    "for num in list2:\n",
    "  if num % 2 == 0:\n",
    "    new_list.append(num)\n",
    "\n",
    "print(new_list)\n"
   ]
  },
  {
   "cell_type": "code",
   "execution_count": 5,
   "id": "52349e7d",
   "metadata": {},
   "outputs": [
    {
     "name": "stdout",
     "output_type": "stream",
     "text": [
      "5\n"
     ]
    }
   ],
   "source": [
    "#Exercise 1.2\n",
    "\n",
    "num = 75869\n",
    "count = 0\n",
    "\n",
    "while num > 0:\n",
    "  count += 1\n",
    "  num //= 10\n",
    "\n",
    "print(count)"
   ]
  },
  {
   "cell_type": "markdown",
   "id": "362b76f3",
   "metadata": {},
   "source": [
    "## 2. Python Functions Exercise"
   ]
  },
  {
   "cell_type": "code",
   "execution_count": 26,
   "id": "e518eef4",
   "metadata": {},
   "outputs": [
    {
     "name": "stdout",
     "output_type": "stream",
     "text": [
      "solution 1:-----\n",
      "1000\n",
      "2000\n",
      "solution 2:-----\n",
      "1000\n",
      "2000\n"
     ]
    }
   ],
   "source": [
    "def product_or_sum(num1, num2):\n",
    "  if num1 * num2 > 1000:\n",
    "    return num1 + num2\n",
    "  else:\n",
    "    return num1 * num2\n",
    "\n",
    "def product_or_sum_2(num1, num2):\n",
    "  if num1 * num2 <= 1000:\n",
    "    return num1 * num2\n",
    "  else:\n",
    "    return num1 + num2\n",
    "\n",
    "print(\"solution 1:-----\")\n",
    "print(product_or_sum(20, 50))\n",
    "print(product_or_sum(1000, 1000))\n",
    "\n",
    "print(\"solution 2:-----\")\n",
    "print(product_or_sum_2(20, 50))\n",
    "print(product_or_sum_2(1000, 1000))"
   ]
  },
  {
   "cell_type": "markdown",
   "id": "99b249e1",
   "metadata": {},
   "source": [
    "## 3. Python List Exercise"
   ]
  },
  {
   "cell_type": "code",
   "execution_count": 16,
   "id": "27385ce4",
   "metadata": {},
   "outputs": [
    {
     "name": "stdout",
     "output_type": "stream",
     "text": [
      "1. Removed 20 from the list:  [12, 75, 150, 180, 145, 525, 50, 100, 999]\n"
     ]
    }
   ],
   "source": [
    "numbers = [12, 75, 150, 180, 145, 525, 50, 20, 20, 100, 999]\n",
    "\n",
    "result = [x for x in numbers if x!= 20]\n",
    "print(\"1. Removed 20 from the list: \", result)\n"
   ]
  },
  {
   "cell_type": "markdown",
   "id": "37f87fcd",
   "metadata": {},
   "source": [
    "## 4. Python tuple Exercise"
   ]
  },
  {
   "cell_type": "code",
   "execution_count": 21,
   "id": "cfd636b2",
   "metadata": {},
   "outputs": [
    {
     "name": "stdout",
     "output_type": "stream",
     "text": [
      "New Tuple: (44, 55)\n",
      "New Tuple 2: (44, 55)\n"
     ]
    }
   ],
   "source": [
    "tuple1 = (10, 20, 30, 40, 44, 50, 55)\n",
    "\n",
    "#Solution 1\n",
    "new_tuple = tuple1[4:7:2]\n",
    "print(\"New Tuple:\", new_tuple)\n",
    "\n",
    "# #Solution 2\n",
    "given_tuple = (11, 22, 33, 44, 55, 66)\n",
    "new_list = []\n",
    " \n",
    "for number in given_tuple:\n",
    "    if number == 44 or number == 55 :\n",
    "        new_list.append(number)\n",
    " \n",
    "new_tuple = tuple(new_list)\n",
    " \n",
    "print(\"New Tuple 2:\", new_tuple)"
   ]
  },
  {
   "cell_type": "markdown",
   "id": "0b92423d",
   "metadata": {},
   "source": [
    "## 5. Python Dictionary Exercise"
   ]
  },
  {
   "cell_type": "code",
   "execution_count": 23,
   "id": "0182fdca",
   "metadata": {},
   "outputs": [
    {
     "name": "stdout",
     "output_type": "stream",
     "text": [
      "{'name': 'Kelly', 'salary': 8000}\n"
     ]
    }
   ],
   "source": [
    "sample_dict = {\"name\":\"Kelly\",\"age\":25,\"salary\":8000, \"city\":\"New York\"}\n",
    "keys_to_extract = [\"name\", \"salary\"]\n",
    "\n",
    "new_dict = {key: sample_dict[key] for key in keys_to_extract}\n",
    "print(new_dict)"
   ]
  }
 ],
 "metadata": {
  "kernelspec": {
   "display_name": "Python 3",
   "language": "python",
   "name": "python3"
  },
  "language_info": {
   "codemirror_mode": {
    "name": "ipython",
    "version": 3
   },
   "file_extension": ".py",
   "mimetype": "text/x-python",
   "name": "python",
   "nbconvert_exporter": "python",
   "pygments_lexer": "ipython3",
   "version": "3.13.7"
  }
 },
 "nbformat": 4,
 "nbformat_minor": 5
}
