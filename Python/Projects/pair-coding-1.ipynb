{
 "cells": [
  {
   "cell_type": "markdown",
   "id": "659edaac",
   "metadata": {},
   "source": [
    "# Pair Coding (12 September 2025)"
   ]
  },
  {
   "cell_type": "markdown",
   "id": "991d9d80",
   "metadata": {},
   "source": [
    "## Room 7\n",
    "### Team Members\n",
    "\n",
    "#### 1. Kyaw Zin Htet (kyawzinhtet.ryan@gmail.com)\n",
    "#### 2. Aye Yu Yu San (ayeyuyusan.yuri@gmail.com)\n",
    "#### 3. Khin Pyae Sone Lin (khinlin.2003@gmail.com)\n",
    "#### 4. Myo Myat Htun (myomyatskywalker@gmail.com)\n",
    "#### 5. Mang Shang Sauying (mangshangsauying1437@gmail.com)\n",
    "#### 6. Kyaw Phyo Aung (kyawphyoaung.me@gmail.com)\n",
    "#### 7. Yu Myint Myat Aung (yumyintmyataung.ec@gmail.com)"
   ]
  },
  {
   "cell_type": "markdown",
   "id": "5530710a",
   "metadata": {},
   "source": [
    "## 1. Python exercises with if-else, for loop, while loop, range()"
   ]
  },
  {
   "cell_type": "code",
   "execution_count": 4,
   "id": "85f3812d",
   "metadata": {},
   "outputs": [
    {
     "name": "stdout",
     "output_type": "stream",
     "text": [
      "[1, 3, 5, 7, 9, 11, 1, 2, 4, 6, 8, 10, 12]\n"
     ]
    }
   ],
   "source": [
    "#Exercise 1.1\n",
    "list1 = [1,3,2,4,5,7,9,6,11, 1]\n",
    "list2 = [2,1,3,5,9,4,6,8,10,12]\n",
    "\n",
    "new_list = []\n",
    "\n",
    "for num in list1:\n",
    "  if num % 2 != 0:\n",
    "    new_list.append(num)\n",
    "\n",
    "for num in list2:\n",
    "  if num % 2 == 0:\n",
    "    new_list.append(num)\n",
    "\n",
    "print(new_list)\n"
   ]
  },
  {
   "cell_type": "code",
   "execution_count": 5,
   "id": "52349e7d",
   "metadata": {},
   "outputs": [
    {
     "name": "stdout",
     "output_type": "stream",
     "text": [
      "5\n"
     ]
    }
   ],
   "source": [
    "#Exercise 1.2\n",
    "\n",
    "num = 75869\n",
    "count = 0\n",
    "\n",
    "while num > 0:\n",
    "  count += 1\n",
    "  num //= 10\n",
    "\n",
    "print(count)"
   ]
  },
  {
   "cell_type": "markdown",
   "id": "362b76f3",
   "metadata": {},
   "source": [
    "## 2. Python Functions Exercise"
   ]
  },
  {
   "cell_type": "code",
   "execution_count": 26,
   "id": "e518eef4",
   "metadata": {},
   "outputs": [
    {
     "name": "stdout",
     "output_type": "stream",
     "text": [
      "solution 1:-----\n",
      "1000\n",
      "2000\n",
      "solution 2:-----\n",
      "1000\n",
      "2000\n"
     ]
    }
   ],
   "source": [
    "def product_or_sum(num1, num2):\n",
    "  if num1 * num2 > 1000:\n",
    "    return num1 + num2\n",
    "  else:\n",
    "    return num1 * num2\n",
    "\n",
    "def product_or_sum_2(num1, num2):\n",
    "  if num1 * num2 <= 1000:\n",
    "    return num1 * num2\n",
    "  else:\n",
    "    return num1 + num2\n",
    "\n",
    "print(\"solution 1:-----\")\n",
    "print(product_or_sum(20, 50))\n",
    "print(product_or_sum(1000, 1000))\n",
    "\n",
    "print(\"solution 2:-----\")\n",
    "print(product_or_sum_2(20, 50))\n",
    "print(product_or_sum_2(1000, 1000))"
   ]
  },
  {
   "cell_type": "markdown",
   "id": "99b249e1",
   "metadata": {},
   "source": [
    "## 3. Python List Exercise"
   ]
  },
  {
   "cell_type": "code",
   "execution_count": 16,
   "id": "27385ce4",
   "metadata": {},
   "outputs": [
    {
     "name": "stdout",
     "output_type": "stream",
     "text": [
      "1. Removed 20 from the list:  [12, 75, 150, 180, 145, 525, 50, 100, 999]\n"
     ]
    }
   ],
   "source": [
    "numbers = [12, 75, 150, 180, 145, 525, 50, 20, 20, 100, 999]\n",
    "\n",
    "result = [x for x in numbers if x!= 20]\n",
    "print(\"1. Removed 20 from the list: \", result)\n"
   ]
  },
  {
   "cell_type": "markdown",
   "id": "37f87fcd",
   "metadata": {},
   "source": [
    "## 4. Python tuple Exercise"
   ]
  },
  {
   "cell_type": "code",
   "execution_count": 21,
   "id": "cfd636b2",
   "metadata": {},
   "outputs": [
    {
     "name": "stdout",
     "output_type": "stream",
     "text": [
      "New Tuple: (44, 55)\n",
      "New Tuple 2: (44, 55)\n"
     ]
    }
   ],
   "source": [
    "tuple1 = (10, 20, 30, 40, 44, 50, 55)\n",
    "\n",
    "#Solution 1\n",
    "new_tuple = tuple1[4:7:2]\n",
    "print(\"New Tuple:\", new_tuple)\n",
    "\n",
    "# #Solution 2\n",
    "given_tuple = (11, 22, 33, 44, 55, 66)\n",
    "new_list = []\n",
    " \n",
    "for number in given_tuple:\n",
    "    if number == 44 or number == 55 :\n",
    "        new_list.append(number)\n",
    " \n",
    "new_tuple = tuple(new_list)\n",
    " \n",
    "print(\"New Tuple 2:\", new_tuple)"
   ]
  },
  {
   "cell_type": "markdown",
   "id": "0b92423d",
   "metadata": {},
   "source": [
    "## 5. Python Dictionary Exercise"
   ]
  },
  {
   "cell_type": "code",
   "execution_count": 23,
   "id": "0182fdca",
   "metadata": {},
   "outputs": [
    {
     "name": "stdout",
     "output_type": "stream",
     "text": [
      "{'name': 'Kelly', 'salary': 8000}\n"
     ]
    }
   ],
   "source": [
    "sample_dict = {\"name\":\"Kelly\",\"age\":25,\"salary\":8000, \"city\":\"New York\"}\n",
    "keys_to_extract = [\"name\", \"salary\"]\n",
    "\n",
    "new_dict = {key: sample_dict[key] for key in keys_to_extract}\n",
    "print(new_dict)"
   ]
  },
  {
   "cell_type": "markdown",
   "id": "dd089d93",
   "metadata": {},
   "source": [
    "# Pair Coding (Advance Level)"
   ]
  },
  {
   "cell_type": "markdown",
   "id": "3f5468c1",
   "metadata": {},
   "source": [
    "## 1) Function Exercise -- Missing Numbers in a Range"
   ]
  },
  {
   "cell_type": "code",
   "execution_count": 44,
   "id": "ac9200f5",
   "metadata": {},
   "outputs": [
    {
     "name": "stdout",
     "output_type": "stream",
     "text": [
      "Missing numbers in the range: [3, 4, 8, 9]\n",
      "['None Missing']\n"
     ]
    }
   ],
   "source": [
    "def find_missing(start, end, nums):\n",
    "  full_range = set(range(start, end + 1))\n",
    "  missing_nums = []\n",
    "  for num in full_range:\n",
    "    if num not in nums:\n",
    "      missing_nums.append(num)\n",
    "  if not missing_nums:\n",
    "    print([\"None Missing\"])\n",
    "  else:\n",
    "    print(\"Missing numbers in the range:\", missing_nums)\n",
    "\n",
    "find_missing(1, 10, [1,2,5,6,7,10])\n",
    "find_missing(1, 10, [1,2,3,4,5,6,7,8,9,10])\n"
   ]
  },
  {
   "cell_type": "markdown",
   "id": "2548a3fc",
   "metadata": {},
   "source": [
    "## 2) Regular Expression Exercise -- Extract Phone Numbers"
   ]
  },
  {
   "cell_type": "code",
   "execution_count": 51,
   "id": "c335fc15",
   "metadata": {},
   "outputs": [
    {
     "name": "stdout",
     "output_type": "stream",
     "text": [
      "['+90-532-123-4567', '(532) 987-6543', '5321230000']\n"
     ]
    }
   ],
   "source": [
    "import re\n",
    "\n",
    "text = \"Call us at +90-532-123-4567 or (532) 987-6543. Old number 5321230000 is not used.\"\n",
    "\n",
    "pattern = r\"(\\+?\\d{1,3}[- ]?\\d{3}[- ]?\\d{3}[- ]?\\d{4}|\\(\\d{3}\\)\\s?\\d{3}[- ]?\\d{4}|\\d{10})\"\n",
    "\n",
    "matches = re.findall(pattern, text)\n",
    "print(matches)"
   ]
  },
  {
   "cell_type": "markdown",
   "id": "e5e699f4",
   "metadata": {},
   "source": [
    "## 3) File & Pandas Exercise -- Average Spending per User"
   ]
  },
  {
   "cell_type": "code",
   "execution_count": 73,
   "id": "9b2d292f",
   "metadata": {},
   "outputs": [
    {
     "name": "stdout",
     "output_type": "stream",
     "text": [
      "user_id,date,amount\n",
      "u1,2025-09-10,20 \n",
      "u1,2025-09-10,30 \n",
      "u2,2025-09-10,40\n",
      "u1,2025-09-11,10\n",
      "u1 average daily spending = 30.0 u2 average daily spending = 40.0 Top spender: u2\n"
     ]
    }
   ],
   "source": [
    "import pandas as pd\n",
    "\n",
    "# 1. Reading the file.\n",
    "with open('transactions.csv', 'r') as file:\n",
    "  print(file.read())\n",
    "\n",
    "#2. Calculates the average daily spending per user.\n",
    "df = pd.read_csv('transactions.csv')\n",
    "df.columns\n",
    "\n",
    "daily_spending = df.groupby(['user_id','date'])['amount'].sum().reset_index()\n",
    "avg_spending = daily_spending.groupby('user_id')['amount'].mean()\n",
    "\n",
    "#3 Finds the user who spends the most on average per day.\n",
    "max_spender = avg_spending.idxmax()\n",
    "\n",
    "for user_id, avg in avg_spending.items():\n",
    "  print(f\"{user_id} average daily spending = {avg} \",end='')\n",
    "\n",
    "print(\"Top spender:\", max_spender)"
   ]
  }
 ],
 "metadata": {
  "kernelspec": {
   "display_name": "Python 3",
   "language": "python",
   "name": "python3"
  },
  "language_info": {
   "codemirror_mode": {
    "name": "ipython",
    "version": 3
   },
   "file_extension": ".py",
   "mimetype": "text/x-python",
   "name": "python",
   "nbconvert_exporter": "python",
   "pygments_lexer": "ipython3",
   "version": "3.13.7"
  }
 },
 "nbformat": 4,
 "nbformat_minor": 5
}
