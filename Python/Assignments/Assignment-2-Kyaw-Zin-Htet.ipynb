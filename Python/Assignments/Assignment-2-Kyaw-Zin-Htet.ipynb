{
 "cells": [
  {
   "cell_type": "markdown",
   "id": "e4cfa2cf",
   "metadata": {},
   "source": [
    "## **Exercise: Design Your Own Treasure Hunt Game**\n",
    "### Kyaw Zin Htet - Assignment 2"
   ]
  },
  {
   "cell_type": "markdown",
   "id": "4fe4c377",
   "metadata": {},
   "source": [
    "\n",
    "**Background**\n",
    "You're tasked with creating a simple board game. In this game, players are treasure hunters, and they need a board to visualize where they might find hidden treasures. Your job is to create this board and allow players to place the treasure at a location of their choice.\n",
    "\n",
    "**Objectives**\n",
    "Board Creation: Create a grid or board of size n x m, where n represents the number of rows and m represents the number of columns. The board should be filled with asterisks (*), which symbolize empty spaces.\n",
    "Player Interaction: Prompt the user (player) to specify a location (row and column) to hide the treasure.\n",
    "\n",
    "Board Display: Using nested loops, construct and display the game board. Use an asterisk (*) for empty cells and a T for the cell with the treasure.\n",
    "\n",
    "\n",
    "**Requirements**\n",
    "The program should start by asking the player to specify the size of the board by entering the number of rows (n) and columns (m).\n",
    "After creating the board, prompt the player to specify where they want to hide the treasure. Make sure they provide a valid row and column number.\n",
    "Handle potential input errors gracefully. For example, if the user tries to place the treasure outside the board's dimensions, display an error message and ask them to enter a valid location.\n",
    "\n",
    "\n",
    "**Bonus Challenge**\n",
    "Add a Trap: Randomly place a trap (X) on the board in addition to the treasure. Ensure that the trap does not overlap with the treasure.\n",
    "Player Guess: Ask the player to guess the location of the treasure. If they find it, display a winning message. If they land on the trap, display a message that they've been trapped. Otherwise, inform them to try again."
   ]
  },
  {
   "cell_type": "code",
   "execution_count": 1,
   "id": "bec0dc4a",
   "metadata": {},
   "outputs": [
    {
     "name": "stdout",
     "output_type": "stream",
     "text": [
      "\n",
      "Here's your game board:\n",
      "\n",
      "* T * * *\n",
      "* * * * *\n",
      "* * * * *\n",
      "* * * * *\n",
      "* * * * *\n",
      "Not here. Try again.\n",
      "* T * * *\n",
      "* * * * *\n",
      "* * * * *\n",
      "* * * * *\n",
      "* X * * *\n",
      "The final board (T = Treasure, X = Trap)\n"
     ]
    }
   ],
   "source": [
    "import random\n",
    "\n",
    "n = int(input(\"Enter the number of rows for the game board: \"))\n",
    "m = int(input(\"Enter the number of columns for the game board: \"))\n",
    "board = [[\"*\" for _ in range(m)] for _ in range(n)]\n",
    "\n",
    "while True:\n",
    "  t_row = int(input(\"Choose a row to hide the treasure (1-{n}): \".format(n=n)))\n",
    "  t_col = int(input(\"Choose a column to hide the treasure (1-{m}): \".format(m=m)))\n",
    "\n",
    "  if 1 <= t_row <= n and 1 <= t_col <=m:\n",
    "    t_row-=1\n",
    "    t_col-=1\n",
    "    break\n",
    "  else:\n",
    "    print(\"Invalid Location! Please Try Again!\")\n",
    "\n",
    "print(\"\\nHere's your game board:\\n\")\n",
    "\n",
    "board[t_row][t_col] = 'T'\n",
    "\n",
    "for row in board:\n",
    "    print(\" \".join(row))\n",
    "\n",
    "while True:\n",
    "  trap_row = random.randint(0, n-1)\n",
    "  trap_col = random.randint(0, m-1)\n",
    "  if (trap_row, trap_col) != (t_row, t_col):\n",
    "    break\n",
    "\n",
    "guess_row = int(input(\"Guess the row of the treasure (1-{n}): \".format(n=n))) - 1\n",
    "guess_col = int(input(\"Guess the column of the treasure (1-{m}): \".format(m=m))) - 1\n",
    "\n",
    "if (guess_row, guess_col) == (t_row, t_col):\n",
    "  print(\"Congratulations! You found the treasure!\")\n",
    "elif(trap_row == guess_row and trap_col == guess_col):\n",
    "  print(\"Oh no! You fell into a trap!\")\n",
    "else:\n",
    "  print(\"Not here. Try again.\")\n",
    "\n",
    "board[t_row][t_col] = 'T'\n",
    "board[trap_row][trap_col] = 'X'\n",
    "\n",
    "for row in board:\n",
    "  print(\" \".join(row))\n",
    "\n",
    "print(\"The final board (T = Treasure, X = Trap)\")"
   ]
  }
 ],
 "metadata": {
  "kernelspec": {
   "display_name": "Python 3",
   "language": "python",
   "name": "python3"
  },
  "language_info": {
   "codemirror_mode": {
    "name": "ipython",
    "version": 3
   },
   "file_extension": ".py",
   "mimetype": "text/x-python",
   "name": "python",
   "nbconvert_exporter": "python",
   "pygments_lexer": "ipython3",
   "version": "3.13.7"
  }
 },
 "nbformat": 4,
 "nbformat_minor": 5
}
