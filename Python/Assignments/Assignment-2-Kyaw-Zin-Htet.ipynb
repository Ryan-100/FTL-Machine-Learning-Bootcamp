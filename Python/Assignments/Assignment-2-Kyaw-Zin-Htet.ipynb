{
 "cells": [
  {
   "cell_type": "markdown",
   "id": "e4cfa2cf",
   "metadata": {},
   "source": [
    "## **Exercise: Design Your Own Treasure Hunt Game**\n",
    "### Kyaw Zin Htet - Assignment 2"
   ]
  },
  {
   "cell_type": "markdown",
   "id": "4fe4c377",
   "metadata": {},
   "source": [
    "\n",
    "**Background**\n",
    "You're tasked with creating a simple board game. In this game, players are treasure hunters, and they need a board to visualize where they might find hidden treasures. Your job is to create this board and allow players to place the treasure at a location of their choice.\n",
    "\n",
    "**Objectives**\n",
    "Board Creation: Create a grid or board of size n x m, where n represents the number of rows and m represents the number of columns. The board should be filled with asterisks (*), which symbolize empty spaces.\n",
    "Player Interaction: Prompt the user (player) to specify a location (row and column) to hide the treasure.\n",
    "\n",
    "Board Display: Using nested loops, construct and display the game board. Use an asterisk (*) for empty cells and a T for the cell with the treasure.\n",
    "\n",
    "\n",
    "**Requirements**\n",
    "The program should start by asking the player to specify the size of the board by entering the number of rows (n) and columns (m).\n",
    "After creating the board, prompt the player to specify where they want to hide the treasure. Make sure they provide a valid row and column number.\n",
    "Handle potential input errors gracefully. For example, if the user tries to place the treasure outside the board's dimensions, display an error message and ask them to enter a valid location.\n",
    "\n",
    "\n",
    "**Bonus Challenge**\n",
    "Add a Trap: Randomly place a trap (X) on the board in addition to the treasure. Ensure that the trap does not overlap with the treasure.\n",
    "Player Guess: Ask the player to guess the location of the treasure. If they find it, display a winning message. If they land on the trap, display a message that they've been trapped. Otherwise, inform them to try again."
   ]
  },
  {
   "cell_type": "code",
   "execution_count": 70,
   "id": "bec0dc4a",
   "metadata": {},
   "outputs": [
    {
     "name": "stdout",
     "output_type": "stream",
     "text": [
      "Here's your game board:\n",
      "\n",
      "* * * * *\n",
      "* * * * *\n",
      "* * T * *\n",
      "* * * * *\n",
      "* * * * *\n"
     ]
    }
   ],
   "source": [
    "import random\n",
    "\n",
    "n = int(input(\"Enter the number of rows for the game board: \"))\n",
    "m = int(input(\"Enter the number of columns for the game board: \"))\n",
    "t_row = int(input(\"Choose a row to hide the treasure (1-{n}): \".format(n=n)))\n",
    "t_col = int(input(\"Choose a column to hide the treasure (1-{m}): \".format(m=m)))\n",
    "\n",
    "print(\"Here's your game board:\\n\")\n",
    "\n",
    "board = [[\"*\" for _ in range(m)] for _ in range(n)]\n",
    "board[t_row-1][t_col-1] = 'T'\n",
    "\n",
    "for row in board:\n",
    "    print(\" \".join(row))\n",
    "# for i in range(1, n+1):\n",
    "#   for j in range(1, m+1):\n",
    "#     if j == t_col and i == t_row:\n",
    "#       print('T', end=' ')\n",
    "#       pass\n",
    "#     elif(j < m):\n",
    "#       print('*', end=' ') \n",
    "#     else:\n",
    "#       print('*\\n')"
   ]
  },
  {
   "cell_type": "code",
   "execution_count": 36,
   "id": "8d65806b",
   "metadata": {},
   "outputs": [
    {
     "name": "stdout",
     "output_type": "stream",
     "text": [
      "=== Treasure Hunt Game ===\n",
      "\n",
      "Here’s your board:\n",
      "* * * * *\n",
      "* * * * *\n",
      "* * * * *\n",
      "* * * * *\n",
      "* * * * *\n",
      "❌ Not here. Try again!\n",
      "\n",
      "The final board (T = Treasure, X = Trap):\n",
      "* T * * *\n",
      "* * * * *\n",
      "* * * * *\n",
      "* * * * *\n",
      "* * * * X\n"
     ]
    }
   ],
   "source": [
    "import random\n",
    "\n",
    "print(\"=== Treasure Hunt Game ===\")\n",
    "\n",
    "# Ask board size\n",
    "n = int(input(\"Enter number of rows: \"))\n",
    "m = int(input(\"Enter number of columns: \"))\n",
    "\n",
    "# Create board filled with '*'\n",
    "board = [[\"*\" for _ in range(m)] for _ in range(n)]\n",
    "\n",
    "# Player chooses treasure location\n",
    "while True:\n",
    "    treasure_row = int(input(f\"Choose treasure row (1 to {n}): \"))\n",
    "    treasure_col = int(input(f\"Choose treasure column (1 to {m}): \"))\n",
    "    \n",
    "    if 1 <= treasure_row <= n and 1 <= treasure_col <= m:\n",
    "        treasure_row -= 1   # convert to 0-based index\n",
    "        treasure_col -= 1\n",
    "        break\n",
    "    else:\n",
    "        print(\"❌ Invalid location. Try again.\")\n",
    "\n",
    "# Random trap placement\n",
    "while True:\n",
    "    trap_row = random.randint(0, n-1)\n",
    "    trap_col = random.randint(0, m-1)\n",
    "    if (trap_row, trap_col) != (treasure_row, treasure_col):\n",
    "        break\n",
    "\n",
    "# Show empty board first\n",
    "print(\"\\nHere’s your board:\")\n",
    "for row in board:\n",
    "    print(\" \".join(row))\n",
    "\n",
    "# Player makes a guess\n",
    "guess_row = int(input(f\"\\nGuess treasure row (1 to {n}): \")) - 1\n",
    "guess_col = int(input(f\"Guess treasure column (1 to {m}): \")) - 1\n",
    "\n",
    "# Check guess\n",
    "if (guess_row, guess_col) == (treasure_row, treasure_col):\n",
    "    print(\"🎉 Congratulations! You found the treasure!\")\n",
    "elif (guess_row, guess_col) == (trap_row, trap_col):\n",
    "    print(\"💀 Oh no! You fell into a trap!\")\n",
    "else:\n",
    "    print(\"❌ Not here. Try again!\")\n",
    "\n",
    "# Reveal the board with T and X\n",
    "board[treasure_row][treasure_col] = \"T\"\n",
    "board[trap_row][trap_col] = \"X\"\n",
    "\n",
    "print(\"\\nThe final board (T = Treasure, X = Trap):\")\n",
    "for row in board:\n",
    "    print(\" \".join(row))\n"
   ]
  },
  {
   "cell_type": "code",
   "execution_count": null,
   "id": "770ea755",
   "metadata": {},
   "outputs": [],
   "source": []
  }
 ],
 "metadata": {
  "kernelspec": {
   "display_name": "Python 3",
   "language": "python",
   "name": "python3"
  },
  "language_info": {
   "codemirror_mode": {
    "name": "ipython",
    "version": 3
   },
   "file_extension": ".py",
   "mimetype": "text/x-python",
   "name": "python",
   "nbconvert_exporter": "python",
   "pygments_lexer": "ipython3",
   "version": "3.13.7"
  }
 },
 "nbformat": 4,
 "nbformat_minor": 5
}
