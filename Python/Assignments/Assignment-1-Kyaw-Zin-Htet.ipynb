{
 "cells": [
  {
   "cell_type": "markdown",
   "id": "60604a30",
   "metadata": {},
   "source": [
    "# Assignment: BMI Calculator and Health Assessment\n",
    "\n",
    "## Kyaw Zin Htet - Assignment 1"
   ]
  },
  {
   "cell_type": "markdown",
   "id": "fb1f0656",
   "metadata": {},
   "source": [
    "\n",
    "\n",
    "**Objective:**\n",
    "\n",
    "Build a Python program that calculates the Body Mass Index (BMI) of a user and provides a health assessment based on their BMI value.\n",
    "\n",
    "**Background Context:**\n",
    "BMI is a measure used to determine whether a person has a healthy body weight for a person of their height. It is calculated using the following formula:\n",
    "\n",
    "$$ \\text{BMI} = \\frac{\\text{weight in kilograms}}{\\text{height in meters}^2} $$\n",
    "\n",
    "\n",
    "The BMI categories are:\n",
    "\n",
    "* Underweight: BMI is less than 18.5\n",
    "* Normal weight: BMI is 18.5 to 24.9\n",
    "* Overweight: BMI is 25 to 29.9\n",
    "* Obesity: BMI is 30 or greater\n",
    "\n",
    "**Tasks:**\n",
    "\n",
    "**User Input:**\n",
    "\n",
    "* Prompt the user to input their weight in kilograms (float).\n",
    "* Prompt the user to input their height in meters (float).\n",
    "\n",
    "\n",
    "**Calculate BMI:**\n",
    "\n",
    "Using the formula provided, calculate the BMI. Store it in a variable named bmi.\n",
    "\n",
    "**Provide Health Assessment:**\n",
    "\n",
    "Using conditional statements (if, elif, and else), determine which BMI category the user falls into.\n",
    "Print out the user's BMI and the corresponding health assessment.\n",
    "\n",
    "**Error Handling:**\n",
    "\n",
    "Ensure the user cannot enter a negative or zero value for height or weight. If they do, provide an error message and prompt them to enter the value again.\n"
   ]
  },
  {
   "cell_type": "code",
   "execution_count": 1,
   "id": "6060b17d",
   "metadata": {},
   "outputs": [
    {
     "name": "stdout",
     "output_type": "stream",
     "text": [
      "\n",
      "Your BMI is: 22.22\n",
      "Health Assessment: Normal weight\n"
     ]
    }
   ],
   "source": [
    "weight = float(input(\"Enter your weight in kilograms: \"))\n",
    "height = float(input(\"Enter your height in meters: \"))\n",
    "\n",
    "bmi = weight / (height ** 2)\n",
    "\n",
    "print(f\"\\nYour BMI is: {bmi:.2f}\")\n",
    "\n",
    "if bmi < 18.5:\n",
    "    print(\"Health Assessment: Underweight\")\n",
    "elif 18.5 <= bmi <= 24.9:\n",
    "    print(\"Health Assessment: Normal weight\")\n",
    "elif 25 <= bmi <= 29.9:\n",
    "    print(\"Health Assessment: Overweight\")\n",
    "else:\n",
    "    print(\"Health Assessment: Obesity\")"
   ]
  }
 ],
 "metadata": {
  "kernelspec": {
   "display_name": "base",
   "language": "python",
   "name": "python3"
  },
  "language_info": {
   "codemirror_mode": {
    "name": "ipython",
    "version": 3
   },
   "file_extension": ".py",
   "mimetype": "text/x-python",
   "name": "python",
   "nbconvert_exporter": "python",
   "pygments_lexer": "ipython3",
   "version": "3.12.7"
  }
 },
 "nbformat": 4,
 "nbformat_minor": 5
}
