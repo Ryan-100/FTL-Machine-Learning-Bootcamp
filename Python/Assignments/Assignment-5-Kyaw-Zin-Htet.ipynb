{
 "cells": [
  {
   "cell_type": "markdown",
   "id": "a6c2e804",
   "metadata": {},
   "source": [
    "# Assignment-5 (Advanced Party Guest Manager)"
   ]
  },
  {
   "cell_type": "markdown",
   "id": "080356b0",
   "metadata": {},
   "source": [
    "\n",
    "**Objective:**\n",
    "Practice using Python dictionaries and tuples by building a guest management system for a party.\n",
    "\n",
    "*Kyaw Zin Htet - Assignment 5*\n",
    "\n",
    "## **Steps To Complete**\n",
    "\n",
    "1. Guest List Initialization:\n",
    "\n",
    "Create an empty dictionary called guests to store guest information.\n",
    "Each guest will have a name, age, and email.\n",
    "\n",
    "2. Adding Guests:\n",
    "\n",
    "Add the following guests to your dictionary using tuples:\n",
    "\"Alice\", 28, \"alice@email.com\"\n",
    "\"Bob\", 35, \"bob@email.com\"\n",
    "\"Charlie\", 30, \"charlie@email.com\"\n",
    "Use the name as the dictionary key, and the tuple (age, email) as the value.\n",
    "\n",
    "3. Updating the Guest List:\n",
    "\n",
    "Add a new guest: \"David\", 22, \"david@email.com\".\n",
    "Remove \"Bob\" from the list.\n",
    "\n",
    "4. Guest Information Retriever:\n",
    "\n",
    "Create a function get_guest_info(guest_name) that:\n",
    "Checks if the guest is on the list.\n",
    "If yes, returns: \"{guest_name} (Age: {age}) is coming to the party! Email: {email}\"\n",
    "Otherwise, returns: \"{guest_name} is not on the guest list.\"\n",
    "\n",
    "5. Guest Counter:\n",
    "\n",
    "Display the total number of guests currently on the list.\n",
    "\n",
    "**Extensions:**\n",
    "\n",
    "Allow users to input their own guests, with the required details.\n",
    "Display guests in order of age.\n",
    "Handle the scenario where someone tries to add an existing guest. Prompt to update details or skip."
   ]
  },
  {
   "cell_type": "code",
   "execution_count": null,
   "id": "a23c528e",
   "metadata": {},
   "outputs": [
    {
     "name": "stdout",
     "output_type": "stream",
     "text": [
      "Bob is not on the guest list.\n",
      "David (Age:22) is coming to the party! Email: david@email.com\n",
      "Total number of guests: 3\n"
     ]
    }
   ],
   "source": [
    "#1. Guest List Initialization\n",
    "guests = {}\n",
    "\n",
    "#2. Adding Guests\n",
    "guests[\"Alice\"] = (28, \"alice@email.com\")\n",
    "guests[\"Bob\"] = (35, \"bob@email.com\")\n",
    "guests[\"Charlie\"] = (30, \"charlie@email.com\")\n",
    "\n",
    "#3. Updating the Guest List\n",
    "guests[\"David\"] = (22, \"david@email.com\")\n",
    "del guests[\"Bob\"]\n",
    "\n",
    "# 4. Guest Information Retriever\n",
    "def get_guest_info(guest_name):\n",
    "  if(guest_name in guests.keys()):\n",
    "    print(f\"{guest_name} (Age:{guests[guest_name][0]}) is coming to the party! Email: {guests[guest_name][1]}\")\n",
    "  else:\n",
    "    print(f\"{guest_name} is not on the guest list.\")\n",
    "\n",
    "get_guest_info(\"Bob\")\n",
    "get_guest_info(\"David\")\n",
    "\n",
    "#5. Guest Counter\n",
    "print(f\"Total number of guests: {len(guests)}\")"
   ]
  },
  {
   "cell_type": "markdown",
   "id": "560c3d1a",
   "metadata": {},
   "source": [
    "### Extenstions"
   ]
  },
  {
   "cell_type": "code",
   "execution_count": null,
   "id": "30358b36",
   "metadata": {},
   "outputs": [
    {
     "name": "stdout",
     "output_type": "stream",
     "text": [
      "\n",
      "Guest List by Age:\n",
      "David - Age: 22, Email: david@email.com\n",
      "Alice - Age: 28, Email: alice@email.com\n",
      "Charlie - Age: 30, Email: charlie@email.com\n",
      "\n",
      "Check Info:\n",
      "Alice (Age:28) is coming to the party! Email: alice@email.com\n",
      "Bob is not on the guest list.\n"
     ]
    }
   ],
   "source": [
    "while True:\n",
    "  choice = input(\"\\nAdd a new guest? (yes/no): \").strip().lower()\n",
    "  if choice != \"yes\":\n",
    "      break\n",
    "\n",
    "  name = input(\"Enter guest name: \").title()\n",
    "  age = int(input(\"Enter age: \"))\n",
    "  email = input(\"Enter email: \")\n",
    "\n",
    "  if name in guests:\n",
    "    update = input(f\"{name} already exists. Update details? (yes/no): \").strip().lower()\n",
    "    if update == \"yes\":\n",
    "        guests[name] = (age, email)\n",
    "        print(f\"{name}'s details updated!\")\n",
    "    else:\n",
    "        print(\"Skipped.\")\n",
    "  else:\n",
    "    guests[name] = (age, email)\n",
    "    print(f\"{name} added!\")\n",
    "\n",
    "print(\"\\nGuest List by Age:\")\n",
    "for name, (age, email) in sorted(guests.items(), key=lambda x: x[1][0]):\n",
    "  print(f\"{name} - Age: {age}, Email: {email}\")\n",
    "\n",
    "print(\"\\nCheck info:\")\n",
    "get_guest_info(\"Alice\")\n",
    "get_guest_info(\"Bob\")"
   ]
  }
 ],
 "metadata": {
  "kernelspec": {
   "display_name": "Python 3",
   "language": "python",
   "name": "python3"
  },
  "language_info": {
   "codemirror_mode": {
    "name": "ipython",
    "version": 3
   },
   "file_extension": ".py",
   "mimetype": "text/x-python",
   "name": "python",
   "nbconvert_exporter": "python",
   "pygments_lexer": "ipython3",
   "version": "3.13.7"
  }
 },
 "nbformat": 4,
 "nbformat_minor": 5
}
