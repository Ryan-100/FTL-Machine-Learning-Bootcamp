{
 "cells": [
  {
   "cell_type": "markdown",
   "id": "82fe96cf",
   "metadata": {},
   "source": [
    "# Exercise: Building a BMI Calculator Using Functions\n",
    "\n",
    "\n",
    "## Kyaw Zin Htet - Assignment 3"
   ]
  },
  {
   "cell_type": "markdown",
   "id": "c7846576",
   "metadata": {},
   "source": [
    "\n",
    "\n",
    "**Objective:**\n",
    "To test your understanding of functions in Python, you are required to build a BMI (Body Mass Index) calculator.\n",
    "\n",
    "**Background:**\n",
    "\n",
    "The Body Mass Index (BMI) is a number calculated from a person's weight and height. It can be used to screen for weight categories that may lead to health problems.\n",
    "\n",
    "The BMI is defined as:\n",
    "\n",
    "$$ \\text{BMI} = \\frac{\\text{weight in kilograms}}{\\text{height in meters}^2} $$\n",
    "\n",
    "**Requirements:**\n",
    "\n",
    "* Function Name: Your function should be named calculate_bmi.\n",
    "* Parameters: The function should accept two parameters:\n",
    ">weight: The weight of the person in kilograms.\\\n",
    "height: The height of the person in meters.\n",
    "\n",
    "* Return Value: The function should return the calculated BMI value rounded to two decimal places.\n",
    "* User Input: After defining the function, prompt the user to input their weight and height.\n",
    "\n",
    "**Output:** Display the calculated BMI to the user along with a health category:The BMI categories are:\n",
    "\n",
    "* Underweight: BMI is less than 18.5\n",
    "* Normal weight: BMI is 18.5 to 24.9\n",
    "* Overweight: BMI is 25 to 29.9\n",
    "* Obesity: BMI is 30 or greater\n",
    "\n",
    "\n",
    "**Bonus Challenge**\n",
    "Extend your program to also accept weight in pounds and height in inches. Convert these values to kilograms and meters respectively, before calculating the BMI. Remember:\n",
    "\n",
    "1 kilogram is approximately 2.20462 pounds.\n",
    "1 meter is approximately 39.3701 inches.\n"
   ]
  },
  {
   "cell_type": "code",
   "execution_count": 2,
   "id": "72b422ed",
   "metadata": {},
   "outputs": [],
   "source": [
    "def calculate_bmi(weight, height):\n",
    "    bmi = weight / (height ** 2)\n",
    "    print(f\"\\nYour BMI is: {round(bmi, 2)}\")\n",
    "    if bmi < 18.5:\n",
    "        print(\"Health Assessment: Underweight\")\n",
    "    elif 18.5 <= bmi <= 24.9:\n",
    "        print(\"Health Assessment: Normal weight\")\n",
    "    elif 25 <= bmi <= 29.9:\n",
    "        print(\"Health Assessment: Overweight\")\n",
    "    else:\n",
    "        print(\"Health Assessment: Obesity\")\n"
   ]
  },
  {
   "cell_type": "code",
   "execution_count": 5,
   "id": "06a0d55a",
   "metadata": {},
   "outputs": [
    {
     "name": "stdout",
     "output_type": "stream",
     "text": [
      "\n",
      "Your BMI is: 22.22\n",
      "Health Assessment: Normal weight\n"
     ]
    }
   ],
   "source": [
    "unit_system = input(\"Do you want to use Metric (kg/m) or Imperial (lbs/in)? Enter M or I: \").strip().upper()\n",
    "\n",
    "if unit_system == \"M\":\n",
    "    weight = float(input(\"Enter your weight in kilograms: \"))\n",
    "    height = float(input(\"Enter your height in meters: \"))\n",
    "elif unit_system == \"I\":\n",
    "    weight_lbs = float(input(\"Enter your weight in pounds: \"))\n",
    "    height_in = float(input(\"Enter your height in inches: \"))\n",
    "    \n",
    "    weight = weight_lbs / 2.20462   # pounds to kilograms\n",
    "    height = height_in / 39.3701    # inches to meters\n",
    "else:\n",
    "    print(\"Invalid choice. Please run the program again.\")\n",
    "    exit()\n",
    "\n",
    "calculate_bmi(weight, height)"
   ]
  },
  {
   "cell_type": "markdown",
   "id": "d1c9590e",
   "metadata": {},
   "source": []
  }
 ],
 "metadata": {
  "kernelspec": {
   "display_name": "Python 3",
   "language": "python",
   "name": "python3"
  },
  "language_info": {
   "codemirror_mode": {
    "name": "ipython",
    "version": 3
   },
   "file_extension": ".py",
   "mimetype": "text/x-python",
   "name": "python",
   "nbconvert_exporter": "python",
   "pygments_lexer": "ipython3",
   "version": "3.12.1"
  }
 },
 "nbformat": 4,
 "nbformat_minor": 5
}
