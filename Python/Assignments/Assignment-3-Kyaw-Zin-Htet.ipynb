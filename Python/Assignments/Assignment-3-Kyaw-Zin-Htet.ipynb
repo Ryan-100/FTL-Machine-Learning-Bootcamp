{
 "cells": [
  {
   "cell_type": "markdown",
   "id": "82fe96cf",
   "metadata": {},
   "source": [
    "# Exercise: Building a BMI Calculator Using Functions\n",
    "\n",
    "\n",
    "## Kyaw Zin Htet - Assignment 3"
   ]
  },
  {
   "cell_type": "markdown",
   "id": "c7846576",
   "metadata": {},
   "source": [
    "\n",
    "\n",
    "**Objective:**\n",
    "To test your understanding of functions in Python, you are required to build a BMI (Body Mass Index) calculator.\n",
    "\n",
    "**Background:**\n",
    "\n",
    "The Body Mass Index (BMI) is a number calculated from a person's weight and height. It can be used to screen for weight categories that may lead to health problems.\n",
    "\n",
    "The BMI is defined as:\n",
    "\n",
    "$$ \\text{BMI} = \\frac{\\text{weight in kilograms}}{\\text{height in meters}^2} $$\n",
    "\n",
    "**Requirements:**\n",
    "\n",
    "* Function Name: Your function should be named calculate_bmi.\n",
    "* Parameters: The function should accept two parameters:\n",
    ">weight: The weight of the person in kilograms.\\\n",
    "height: The height of the person in meters.\n",
    "\n",
    "* Return Value: The function should return the calculated BMI value rounded to two decimal places.\n",
    "* User Input: After defining the function, prompt the user to input their weight and height.\n",
    "\n",
    "**Output:** Display the calculated BMI to the user along with a health category:The BMI categories are:\n",
    "\n",
    "* Underweight: BMI is less than 18.5\n",
    "* Normal weight: BMI is 18.5 to 24.9\n",
    "* Overweight: BMI is 25 to 29.9\n",
    "* Obesity: BMI is 30 or greater\n",
    "\n",
    "\n",
    "**Bonus Challenge**\n",
    "Extend your program to also accept weight in pounds and height in inches. Convert these values to kilograms and meters respectively, before calculating the BMI. Remember:\n",
    "\n",
    "1 kilogram is approximately 2.20462 pounds.\n",
    "1 meter is approximately 39.3701 inches.\n"
   ]
  },
  {
   "cell_type": "markdown",
   "id": "d1c9590e",
   "metadata": {},
   "source": []
  }
 ],
 "metadata": {
  "language_info": {
   "name": "python"
  }
 },
 "nbformat": 4,
 "nbformat_minor": 5
}
