{
 "cells": [
  {
   "cell_type": "markdown",
   "id": "556f2def",
   "metadata": {},
   "source": [
    "## **Exercise: Palindrome Checker**"
   ]
  },
  {
   "cell_type": "markdown",
   "id": "c19ba6b3",
   "metadata": {},
   "source": [
    "\n",
    "Objective: Write a program to determine if a given word or sentence is a palindrome. A palindrome is a word, phrase, number, or other sequences of characters that reads the same forward and backward (ignoring spaces, punctuation, and capitalization).\n",
    "\n",
    "Instructions:\n",
    "\n",
    "Your program should be able to ignore non-alphanumeric characters and be case insensitive. For example, \"A man, a plan, a canal, Panama\" is a valid palindrome.\n",
    "\n",
    "Create two functions to check for palindromes:\n",
    "\n",
    "is_palindrome_while(input_string: str) -> bool: This function should use a while loop to check if the input string is a palindrome.\n",
    "is_palindrome_for(input_string: str) -> bool: This function should use a for loop to check if the input string is a palindrome.\n",
    "Both functions should return True if the input string is a palindrome and False otherwise.\n",
    "\n",
    "Test your functions with some sample inputs. Remember, your functions should be able to handle cases with spaces and punctuation.\n",
    "\n",
    "Hints:\n",
    "\n",
    "Consider using Python string methods and conditional checks to clean your input string.\n",
    "To check the palindrome property, consider how you might compare characters from the beginning and end of the string, moving inward."
   ]
  },
  {
   "cell_type": "code",
   "execution_count": 11,
   "id": "9c2fd0dd",
   "metadata": {},
   "outputs": [],
   "source": [
    "def is_palindrome_for_loop(input:str) -> bool:\n",
    "  input = ''.join(c for c in input if c.isalnum()).lower()\n",
    "  for i in range(len(input)):\n",
    "    if(input[i] != input[-(i+1)]):\n",
    "      return False\n",
    "  return True"
   ]
  },
  {
   "cell_type": "code",
   "execution_count": 10,
   "id": "e8d44564",
   "metadata": {},
   "outputs": [
    {
     "data": {
      "text/plain": [
       "True"
      ]
     },
     "execution_count": 10,
     "metadata": {},
     "output_type": "execute_result"
    }
   ],
   "source": [
    "is_palindrome_for_loop(\"A man, a plan, a canal, Panama\" )"
   ]
  },
  {
   "cell_type": "code",
   "execution_count": 13,
   "id": "cd94ff80",
   "metadata": {},
   "outputs": [
    {
     "data": {
      "text/plain": [
       "False"
      ]
     },
     "execution_count": 13,
     "metadata": {},
     "output_type": "execute_result"
    }
   ],
   "source": [
    "is_palindrome_for_loop(\"A man, a woman, a baby, Family\" )"
   ]
  }
 ],
 "metadata": {
  "kernelspec": {
   "display_name": "Python 3",
   "language": "python",
   "name": "python3"
  },
  "language_info": {
   "codemirror_mode": {
    "name": "ipython",
    "version": 3
   },
   "file_extension": ".py",
   "mimetype": "text/x-python",
   "name": "python",
   "nbconvert_exporter": "python",
   "pygments_lexer": "ipython3",
   "version": "3.13.7"
  }
 },
 "nbformat": 4,
 "nbformat_minor": 5
}
